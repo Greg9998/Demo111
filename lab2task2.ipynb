{
  "nbformat": 4,
  "nbformat_minor": 0,
  "metadata": {
    "colab": {
      "provenance": [],

      "authorship_tag": "ABX9TyOmJ5752DCq3KxqW22tNvuE",

      "include_colab_link": true
    },
    "kernelspec": {
      "name": "python3",
      "display_name": "Python 3"
    },
    "language_info": {
      "name": "python"
    }
  },
  "cells": [
    {
      "cell_type": "markdown",
      "metadata": {
        "id": "view-in-github",
        "colab_type": "text"
      },
      "source": [

        "<a href=\"https://colab.research.google.com/github/Greg9998/Demo111/blob/master/lab2task2.ipynb\" target=\"_parent\"><img src=\"https://colab.research.google.com/assets/colab-badge.svg\" alt=\"Open In Colab\"/></a>"

      ]
    },
    {
      "cell_type": "code",

      "execution_count": 5,
      "metadata": {
        "id": "XxmPUFRdS92g"
      },
      "outputs": [],
      "source": [
        "fruits = [\"apple\", \"banana\", \"cherry\", \"potato\", \"tomato\"]\n"
      ]
    },
    {
      "cell_type": "code",
      "source": [
        "for x in range(1,len(fruits)):\n",
        "  print(fruits[x])\n"
      ],
      "metadata": {
        "id": "zZbZsA9bUCjy",
        "outputId": "e5aa3578-e311-461e-92fc-c06182e4d26c",
        "colab": {
          "base_uri": "https://localhost:8080/"
        }
      },
      "execution_count": 20,

      "execution_count": 1,
      "metadata": {
        "colab": {
          "base_uri": "https://localhost:8080/"
        },
        "id": "XxmPUFRdS92g",
        "outputId": "fdc290bc-43fe-4595-e4d3-49c4d9abf127"
      },

      "outputs": [
        {
          "output_type": "stream",
          "name": "stdout",
          "text": [

            "banana\n",
            "cherry\n",
            "potato\n",
            "tomato\n",
            "5\n"
          ]
        }

            "apple\n",
            "banana\n",
            "cherry\n"
          ]
        }
      ],
      "source": [
        "fruits = [\"apple\", \"banana\", \"cherry\"]\n"

      ]
    }
  ]
}