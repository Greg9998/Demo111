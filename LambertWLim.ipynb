{
  "nbformat": 4,
  "nbformat_minor": 0,
  "metadata": {
    "colab": {
      "provenance": [],
      "authorship_tag": "ABX9TyP1J7vudgxNrJSqrrW+zTdW",
      "include_colab_link": true
    },
    "kernelspec": {
      "name": "python3",
      "display_name": "Python 3"
    },
    "language_info": {
      "name": "python"
    }
  },
  "cells": [
    {
      "cell_type": "markdown",
      "metadata": {
        "id": "view-in-github",
        "colab_type": "text"
      },
      "source": [
        "<a href=\"https://colab.research.google.com/github/Greg9998/Demo111/blob/master/LambertWLim.ipynb\" target=\"_parent\"><img src=\"https://colab.research.google.com/assets/colab-badge.svg\" alt=\"Open In Colab\"/></a>"
      ]
    },
    {
      "cell_type": "code",
      "execution_count": 31,
      "metadata": {
        "colab": {
          "base_uri": "https://localhost:8080/",
          "height": 59
        },
        "id": "FPPa-M3-eeXb",
        "outputId": "b1b82093-5dcf-4233-bbc0-16c6e35d6db4"
      },
      "outputs": [
        {
          "output_type": "display_data",
          "data": {
            "text/plain": [
              "<IPython.core.display.Math object>"
            ],
            "text/latex": "$\\displaystyle \\lim_{x\\to oo} a + \\left(1 + \\frac{1}{x}\\right)^{x} = a + e$"
          },
          "metadata": {}
        }
      ],
      "source": [
        "# clear all\n",
        "from IPython import get_ipython\n",
        "get_ipython().magic('reset -sf')\n",
        "\n",
        "import sympy as sym\n",
        "from sympy import *\n",
        "from IPython.display import display,Math\n",
        "\n",
        "a = Symbol('a')\n",
        "x = Symbol('x')\n",
        "fx = a+(1+1/x)**x\n",
        "lim_pnt = sym.oo\n",
        "lim = sym.limit(fx,x,lim_pnt)\n",
        "\n",
        "display(Math('\\\\lim_{x\\\\to %s} %s = %s' %(lim_pnt,sym.latex(fx),sym.latex(lim))))"
      ]
    },
    {
      "cell_type": "code",
      "source": [
        "fx = LambertW(x)/x\n",
        "lim_pnt = sym.oo\n",
        "lim = sym.limit(fx,x,lim_pnt)\n",
        "\n",
        "display(Math('\\\\lim_{x\\\\to %s} %s = %s' %(lim_pnt,sym.latex(fx),sym.latex(lim))))"
      ],
      "metadata": {
        "colab": {
          "base_uri": "https://localhost:8080/",
          "height": 58
        },
        "id": "lXIpYhH1iebg",
        "outputId": "2280ad0f-af7f-4258-b911-948a242d09ee"
      },
      "execution_count": 35,
      "outputs": [
        {
          "output_type": "display_data",
          "data": {
            "text/plain": [
              "<IPython.core.display.Math object>"
            ],
            "text/latex": "$\\displaystyle \\lim_{x\\to oo} \\frac{W\\left(x\\right)}{x} = \\lim_{x \\to \\infty}\\left(\\frac{W\\left(x\\right)}{x}\\right)$"
          },
          "metadata": {}
        }
      ]
    },
    {
      "cell_type": "code",
      "source": [
        "B = Symbol('B')\n",
        "C = Symbol('C')\n",
        "q = Symbol('q')\n",
        "p = Symbol('p')\n",
        "x = Symbol('x')\n",
        "\n",
        "fx = 1/x*(1/(q-1) + 1/log(q)*LambertW(q**(1/(1-q))*log(q)*(C*(q-1)**2*(1+p**x*(x*(p-1)-1))-B*(p-1)**2)/(B*(p-1)**2*(q-1))))\n",
        "\n",
        "lim_pnt = sym.oo\n",
        "lim = sym.limit(fx,x,lim_pnt)\n",
        "\n",
        "display(Math('\\\\lim_{x\\\\to %s} %s = %s' %(lim_pnt,sym.latex(fx),sym.latex(lim))))\n",
        "\n"
      ],
      "metadata": {
        "colab": {
          "base_uri": "https://localhost:8080/",
          "height": 131
        },
        "id": "oGURAdJEe7eI",
        "outputId": "51053464-b984-44b7-db02-90efeefbe9dd"
      },
      "execution_count": 36,
      "outputs": [
        {
          "output_type": "display_data",
          "data": {
            "text/plain": [
              "<IPython.core.display.Math object>"
            ],
            "text/latex": "$\\displaystyle \\lim_{x\\to oo} \\frac{\\frac{W\\left(\\frac{q^{\\frac{1}{1 - q}} \\left(- B \\left(p - 1\\right)^{2} + C \\left(q - 1\\right)^{2} \\left(p^{x} \\left(x \\left(p - 1\\right) - 1\\right) + 1\\right)\\right) \\log{\\left(q \\right)}}{B \\left(p - 1\\right)^{2} \\left(q - 1\\right)}\\right)}{\\log{\\left(q \\right)}} + \\frac{1}{q - 1}}{x} = \\lim_{x \\to \\infty}\\left(\\frac{\\frac{W\\left(\\frac{q^{\\frac{1}{1 - q}} \\left(- B \\left(p - 1\\right)^{2} + C \\left(q - 1\\right)^{2} \\left(p^{x} \\left(x \\left(p - 1\\right) - 1\\right) + 1\\right)\\right) \\log{\\left(q \\right)}}{B \\left(p - 1\\right)^{2} \\left(q - 1\\right)}\\right)}{\\log{\\left(q \\right)}} + \\frac{1}{q - 1}}{x}\\right)$"
          },
          "metadata": {}
        }
      ]
    }
  ]
}