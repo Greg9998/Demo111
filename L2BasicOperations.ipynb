{
  "nbformat": 4,
  "nbformat_minor": 0,
  "metadata": {
    "colab": {
      "provenance": [],
      "authorship_tag": "ABX9TyP2L4Kt13xPl8ilXYr9Ylu9",
      "include_colab_link": true
    },
    "kernelspec": {
      "name": "python3",
      "display_name": "Python 3"
    },
    "language_info": {
      "name": "python"
    }
  },
  "cells": [
    {
      "cell_type": "markdown",
      "metadata": {
        "id": "view-in-github",
        "colab_type": "text"
      },
      "source": [
        "<a href=\"https://colab.research.google.com/github/Greg9998/Demo111/blob/master/L2BasicOperations.ipynb\" target=\"_parent\"><img src=\"https://colab.research.google.com/assets/colab-badge.svg\" alt=\"Open In Colab\"/></a>"
      ]
    },
    {
      "cell_type": "markdown",
      "source": [
        "**Task 1**: Perform 2 simple arithmetic operations in colab – display the result of one of them via print() function, and the other via in-built display"
      ],
      "metadata": {
        "id": "IFsCqOcDyBve"
      }
    },
    {
      "cell_type": "code",
      "execution_count": 14,
      "metadata": {
        "colab": {
          "base_uri": "https://localhost:8080/",
          "height": 0
        },
        "id": "n3yFVK5ZvMOX",
        "outputId": "599afd9b-abb6-49bb-f0a0-e15e471e45a1"
      },
      "outputs": [
        {
          "output_type": "stream",
          "name": "stdout",
          "text": [
            "value of a=3.3, and b=1.41, and sum of them a+b=4.71\n",
            "value of a^b=5.411\n"
          ]
        }
      ],
      "source": [
        "import math #importing library for mathematical functions\n",
        "a=3.3\n",
        "b=math.sqrt(2)\n",
        "c=a+b\n",
        "print(f'value of a={a}, and b={b:.2f}, and sum of them a+b={c:.2f}')\n",
        "c=a**b\n",
        "print(f'value of a^b={c:.3f}')"
      ]
    },
    {
      "cell_type": "markdown",
      "source": [
        "**Task 2**: Write a “while” loop based on the value of randomly\n",
        "generated number being higher than 0.8, add following functionality:\n",
        "1.   After the loop ends, print how many iterations it went through;\n",
        "2.   Based on naïve expected number of iterations (e.g. for 0.5 we “expect” 1 pass for every 2 numbers, so needing more than 2 would be “unlucky”), after the loop ends print “lucky” or “unlucky” message\n",
        "\n",
        "*The improvement of the task consists in 'sz' simulations for a constant treshhold value p or also a random one (commented)"
      ],
      "metadata": {
        "id": "jItsvvamynZ9"
      }
    },
    {
      "cell_type": "code",
      "source": [
        "import random #importing library for random number generation\n",
        "\n",
        "L=0\n",
        "sz=10\n",
        "for j in range(sz):\n",
        "  p=0.8 #p∈[0,1]\n",
        "  #p=round(random.random(),2)\n",
        "  E = 1/(1-p)\n",
        "  i=0\n",
        "  c=0\n",
        "  while c < p:\n",
        "    c=random.random()\n",
        "    i=i+1\n",
        "  if (i>E):\n",
        "    print(f'For p={p} a number of while loop iterations i={i}; its unlucky according to the expected value E={E:.3f}')\n",
        "  else:\n",
        "    L+=1\n",
        "    print(f'For p={p} a number of while loop iterations i={i}; its lucky according to the expected value E={E:.3f}')\n",
        "print(f'The percentage of lucky draws is {L/sz*100:.3f}%')"
      ],
      "metadata": {
        "colab": {
          "base_uri": "https://localhost:8080/",
          "height": 0
        },
        "id": "SXlgDeZQvN5w",
        "outputId": "9eea4acb-1ed6-4065-b977-a8a481d74406"
      },
      "execution_count": 132,
      "outputs": [
        {
          "output_type": "stream",
          "name": "stdout",
          "text": [
            "For p=0.8 a number of while loop iterations i=8; its unlucky according to the expected value E=5.000\n",
            "For p=0.8 a number of while loop iterations i=3; its lucky according to the expected value E=5.000\n",
            "For p=0.8 a number of while loop iterations i=1; its lucky according to the expected value E=5.000\n",
            "For p=0.8 a number of while loop iterations i=5; its lucky according to the expected value E=5.000\n",
            "For p=0.8 a number of while loop iterations i=1; its lucky according to the expected value E=5.000\n",
            "For p=0.8 a number of while loop iterations i=1; its lucky according to the expected value E=5.000\n",
            "For p=0.8 a number of while loop iterations i=3; its lucky according to the expected value E=5.000\n",
            "For p=0.8 a number of while loop iterations i=1; its lucky according to the expected value E=5.000\n",
            "For p=0.8 a number of while loop iterations i=3; its lucky according to the expected value E=5.000\n",
            "For p=0.8 a number of while loop iterations i=8; its unlucky according to the expected value E=5.000\n",
            "The percentage of lucky draws is 80.000%\n"
          ]
        }
      ]
    },
    {
      "cell_type": "markdown",
      "source": [
        "**Task 3**: Put the loop from task 2 inside a function, where the threshold for random number will be an input argument to the function. Run the function with different argument values\n",
        "\n",
        "*An additional change beyond substitution to the function is to replace printing the results with returning the percentage of lucky simulations k\n",
        "\n",
        "**Second additional section examines the function for various p values from 0 to 1"
      ],
      "metadata": {
        "id": "bfAJcprVCa89"
      }
    },
    {
      "cell_type": "code",
      "source": [
        "import random #importing library for random number generation\n",
        "import numpy as np\n",
        "from matplotlib import pyplot as plt\n",
        "\n",
        "def UniDistWithTreshold(p,sz):\n",
        "  L=0\n",
        "  for j in range(sz):\n",
        "    E = 1/(1-p)\n",
        "    i=0\n",
        "    c=0\n",
        "    while c < p:\n",
        "      c=random.random()\n",
        "      i=i+1\n",
        "    if (i>E):\n",
        "      pass\n",
        "      #print(f'For p={p} a number of while loop iterations i={i}; its unlucky according to the expected value E={E:.3f}')\n",
        "    else:\n",
        "      L+=1\n",
        "      #print(f'For p={p} a number of while loop iterations i={i}; its lucky according to the expected value E={E:.3f}')\n",
        "  k=L/sz\n",
        "  return k\n",
        "\n",
        "p=0.8\n",
        "k=UniDistWithTreshold(p,10000)\n",
        "print(f'For p={p}, the percentage of lucky draws is {k*100:.3f}%\\n')\n",
        "\n",
        "# additional staff to symulate how it works\n",
        "p = np.linspace(0.0, 0.99, 100)\n",
        "k = []\n",
        "for i in range(len(p)):\n",
        "    k += [UniDistWithTreshold(p[i],2000)]\n",
        "plt.plot(p, k, color='red')\n",
        "plt.title('distribution of lucky draws')\n",
        "plt.ylabel('probability')\n",
        "plt.xlabel('p')\n",
        "plt.show()\n"
      ],
      "metadata": {
        "colab": {
          "base_uri": "https://localhost:8080/",
          "height": 508
        },
        "id": "qOT9UY3mCji8",
        "outputId": "e550768d-65e1-410d-e8ad-ef6f2d065e8c"
      },
      "execution_count": 174,
      "outputs": [
        {
          "output_type": "stream",
          "name": "stdout",
          "text": [
            "For p=0.8, the percentage of lucky draws is 66.410%\n",
            "\n"
          ]
        },
        {
          "output_type": "display_data",
          "data": {
            "text/plain": [
              "<Figure size 640x480 with 1 Axes>"
            ],
            "image/png": "[encoded data removed]"
          },
          "metadata": {}
        }
      ]
    },
    {
      "cell_type": "markdown",
      "source": [
        "**Task 4**: Write a program that solves the following equation (the solution can be approximate):\n",
        "\n",
        "3x^2 – 4x - 2 = 0"
      ],
      "metadata": {
        "id": "V1GguVEvSl5U"
      }
    },
    {
      "cell_type": "code",
      "source": [
        "import math #importing library for mathematical functions\n",
        "\n",
        "a = 3\n",
        "b = -4\n",
        "c = -2\n",
        "\n",
        "D = b**2-4*a*c #calculate Δ\n",
        "\n",
        "x1 = (-b-math.sqrt(D))/(2*a)\n",
        "x2 = (-b+math.sqrt(D))/(2*a)\n",
        "\n",
        "print(f'The solution are x1={x1:.3f} and x2={x2:.3f}')"
      ],
      "metadata": {
        "colab": {
          "base_uri": "https://localhost:8080/",
          "height": 0
        },
        "id": "0ZkIVHAES2TD",
        "outputId": "e89680c7-79d2-4fa1-809d-890dc8838a7a"
      },
      "execution_count": 154,
      "outputs": [
        {
          "output_type": "stream",
          "name": "stdout",
          "text": [
            "The solution are x1=-0.387 and x2=1.721\n"
          ]
        }
      ]
    },
    {
      "cell_type": "markdown",
      "source": [
        "**Task 5**: Write a function for solving quadratic equations, use it to solve task 4"
      ],
      "metadata": {
        "id": "WtQp08zBXokS"
      }
    },
    {
      "cell_type": "code",
      "source": [
        "import math #importing library for mathematical functions\n",
        "import cmath #we need complex numbers if Δ<0\n",
        "\n",
        "def QuadraticFun(a,b,c):\n",
        "  D = b**2-4*a*c\n",
        "  if D<0:\n",
        "    x1 = (-b-cmath.sqrt(D))/(2*a)\n",
        "    x2 = (-b+cmath.sqrt(D))/(2*a)\n",
        "  else:\n",
        "    x1 = (-b-math.sqrt(D))/(2*a)\n",
        "    x2 = (-b+math.sqrt(D))/(2*a)\n",
        "  return [x1,x2]\n",
        "\n",
        "x=QuadraticFun(3,-4,-2)\n",
        "print(f'The solution for 3x^2-4x-2 are x1={x[0]:.3f} and x2={x[1]:.3f}')\n",
        "a=2\n",
        "b=4\n",
        "c=6\n",
        "x=QuadraticFun(a,b,c)\n",
        "print(f'The solution for {a}x^2+{b}x+{c} are x1={x[0]:.3f} and x2={x[1]:.3f}')"
      ],
      "metadata": {
        "colab": {
          "base_uri": "https://localhost:8080/",
          "height": 0
        },
        "id": "fYiezyjXXs4e",
        "outputId": "7f8576c3-55a1-4ee1-8ecc-f7d454ea1e1c"
      },
      "execution_count": 186,
      "outputs": [
        {
          "output_type": "stream",
          "name": "stdout",
          "text": [
            "The solution for 3x^2-4x-2 are x1=-0.387 and x2=1.721\n",
            "The solution for 2x^2+4x+6 are x1=-1.000-1.414j and x2=-1.000+1.414j\n"
          ]
        }
      ]
    },
    {
      "cell_type": "markdown",
      "source": [
        "**Task 6**: Write code that separates the values in both values1 and values2 arrays into two lists, one containing values lower than 0.5, the other containing remaining values, and:\n",
        "1.   Display the contents of these lists (you can print an entire list - *print(list_name)* )\n",
        "2.   Display the number of elements in these lists (you can use *len()* function )\n"
      ],
      "metadata": {
        "id": "WMUzRFZLaoTC"
      }
    },
    {
      "cell_type": "code",
      "source": [
        "import numpy as np\n",
        "\n",
        "values1 = np.random.rand(20)\n",
        "values2 = np.random.rand(20)\n",
        "\n",
        "# At first join two list\n",
        "V = np.concatenate((values1, values2))\n",
        "\n",
        "# Now separate values into new lists\n",
        "T1 = []\n",
        "T2 = []\n",
        "for i in range(len(V)):\n",
        "  if V[i]<0.5:\n",
        "    T1.append(V[i])\n",
        "  else:\n",
        "    T2.append(V[i])\n",
        "print(f'List of values less then 0.5 has length {len(T1)}:\\n')\n",
        "print(f'{T1}\\n')\n",
        "print(f'List of values higher or equal to 0.5 has length {len(T2)}:\\n')\n",
        "print(f'{T2}\\n')"
      ],
      "metadata": {
        "colab": {
          "base_uri": "https://localhost:8080/",
          "height": 0
        },
        "id": "kBs4ep3wa-9S",
        "outputId": "18e47f5f-0386-4e24-b11b-b5c72b2a9eda"
      },
      "execution_count": 225,
      "outputs": [
        {
          "output_type": "stream",
          "name": "stdout",
          "text": [
            "List of values less then 0.5 has length 18:\n",
            "\n",
            "[0.3590201867452696, 0.05399174999504219, 0.4628787721912532, 0.30872172370493944, 0.32683052002802127, 0.1945229000245433, 0.3080955768420277, 0.45184564016640494, 0.4114074245033189, 0.4827516526158163, 0.0022367166083973045, 0.384247149388269, 0.4091713133990651, 0.3784450848693254, 0.02426433796516181, 0.2836203571570375, 0.21854568489610027, 0.11950149379962616]\n",
            "\n",
            "List of values higher or equal to 0.5 has length 22:\n",
            "\n",
            "[0.8948317719590658, 0.9464571993319341, 0.8597970394192689, 0.6217594453220442, 0.7602623119033601, 0.5318390795508804, 0.8404176840460904, 0.7516376506067598, 0.5332259522855044, 0.5584824482084213, 0.7928653863353597, 0.7517240085438345, 0.8496830816739417, 0.9936390620465129, 0.8350260503875953, 0.7699438256736487, 0.71081418655896, 0.7586458238710688, 0.7140237029487485, 0.7154917576570186, 0.6115317116349654, 0.7592648200759232]\n",
            "\n"
          ]
        }
      ]
    }
  ]
}