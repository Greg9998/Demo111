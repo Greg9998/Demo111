{
  "nbformat": 4,
  "nbformat_minor": 0,
  "metadata": {
    "colab": {
      "provenance": [],
      "authorship_tag": "ABX9TyMptHiQJluHbinIZhHqNfOT",
      "include_colab_link": true
    },
    "kernelspec": {
      "name": "python3",
      "display_name": "Python 3"
    },
    "language_info": {
      "name": "python"
    }
  },
  "cells": [
    {
      "cell_type": "markdown",
      "metadata": {
        "id": "view-in-github",
        "colab_type": "text"
      },
      "source": [
        "<a href=\"https://colab.research.google.com/github/Greg9998/Demo111/blob/master/L2BasicOperations.ipynb\" target=\"_parent\"><img src=\"https://colab.research.google.com/assets/colab-badge.svg\" alt=\"Open In Colab\"/></a>"
      ]
    },
    {
      "cell_type": "markdown",
      "source": [
        "**Task 1**: Perform 2 simple arithmetic operations in colab – display the result of one of them via print() function, and the other via in-built display"
      ],
      "metadata": {
        "id": "IFsCqOcDyBve"
      }
    },
    {
      "cell_type": "code",
      "execution_count": null,
      "metadata": {
        "colab": {
          "base_uri": "https://localhost:8080/"
        },
        "id": "n3yFVK5ZvMOX",
        "outputId": "599afd9b-abb6-49bb-f0a0-e15e471e45a1"
      },
      "outputs": [
        {
          "output_type": "stream",
          "name": "stdout",
          "text": [
            "value of a=3.3, and b=1.41, and sum of them a+b=4.71\n",
            "value of a^b=5.411\n"
          ]
        }
      ],
      "source": [
        "import math #importing library for mathematical functions\n",
        "a=3.3\n",
        "b=math.sqrt(2)\n",
        "c=a+b\n",
        "print(f'value of a={a}, and b={b:.2f}, and sum of them a+b={c:.2f}')\n",
        "c=a**b\n",
        "print(f'value of a^b={c:.3f}')"
      ]
    },
    {
      "cell_type": "markdown",
      "source": [
        "**Task 2**: Write a “while” loop based on the value of randomly\n",
        "generated number being higher than 0.8, add following functionality:\n",
        "1.   After the loop ends, print how many iterations it went through;\n",
        "2.   Based on naïve expected number of iterations (e.g. for 0.5 we “expect” 1 pass for every 2 numbers, so needing more than 2 would be “unlucky”), after the loop ends print “lucky” or “unlucky” message\n",
        "\n",
        "*The improvement of the task consists in 'sz' simulations for a constant treshhold value p or also a random one (commented)"
      ],
      "metadata": {
        "id": "jItsvvamynZ9"
      }
    },
    {
      "cell_type": "code",
      "source": [
        "import random #importing library for random number generation\n",
        "\n",
        "L=0\n",
        "sz=10\n",
        "for j in range(sz):\n",
        "  p=0.8 #p∈[0,1]\n",
        "  #p=round(random.random(),2)\n",
        "  E = 1/(1-p)\n",
        "  i=0\n",
        "  c=0\n",
        "  while c < p:\n",
        "    c=random.random()\n",
        "    i=i+1\n",
        "  if (i>E):\n",
        "    print(f'For p={p} a number of while loop iterations i={i}; its unlucky according to the expected value E={E:.3f}')\n",
        "  else:\n",
        "    L+=1\n",
        "    print(f'For p={p} a number of while loop iterations i={i}; its lucky according to the expected value E={E:.3f}')\n",
        "print(f'The percentage of lucky draws is {L/sz*100:.3f}%')"
      ],
      "metadata": {
        "colab": {
          "base_uri": "https://localhost:8080/"
        },
        "id": "SXlgDeZQvN5w",
        "outputId": "9eea4acb-1ed6-4065-b977-a8a481d74406"
      },
      "execution_count": null,
      "outputs": [
        {
          "output_type": "stream",
          "name": "stdout",
          "text": [
            "For p=0.8 a number of while loop iterations i=8; its unlucky according to the expected value E=5.000\n",
            "For p=0.8 a number of while loop iterations i=3; its lucky according to the expected value E=5.000\n",
            "For p=0.8 a number of while loop iterations i=1; its lucky according to the expected value E=5.000\n",
            "For p=0.8 a number of while loop iterations i=5; its lucky according to the expected value E=5.000\n",
            "For p=0.8 a number of while loop iterations i=1; its lucky according to the expected value E=5.000\n",
            "For p=0.8 a number of while loop iterations i=1; its lucky according to the expected value E=5.000\n",
            "For p=0.8 a number of while loop iterations i=3; its lucky according to the expected value E=5.000\n",
            "For p=0.8 a number of while loop iterations i=1; its lucky according to the expected value E=5.000\n",
            "For p=0.8 a number of while loop iterations i=3; its lucky according to the expected value E=5.000\n",
            "For p=0.8 a number of while loop iterations i=8; its unlucky according to the expected value E=5.000\n",
            "The percentage of lucky draws is 80.000%\n"
          ]
        }
      ]
    },
    {
      "cell_type": "markdown",
      "source": [
        "**Task 3**: Put the loop from task 2 inside a function, where the threshold for random number will be an input argument to the function. Run the function with different argument values\n",
        "\n",
        "*An additional change beyond substitution to the function is to replace printing the results with returning the percentage of lucky simulations k\n",
        "\n",
        "**Second additional section examines the function for various p values from 0 to 1"
      ],
      "metadata": {
        "id": "bfAJcprVCa89"
      }
    },
    {
      "cell_type": "code",
      "source": [
        "import random #importing library for random number generation\n",
        "import numpy as np\n",
        "from matplotlib import pyplot as plt\n",
        "\n",
        "def UniDistWithTreshold(p,sz):\n",
        "  L=0\n",
        "  for j in range(sz):\n",
        "    E = 1/(1-p)\n",
        "    i=0\n",
        "    c=0\n",
        "    while c < p:\n",
        "      c=random.random()\n",
        "      i=i+1\n",
        "    if (i>E):\n",
        "      pass\n",
        "      #print(f'For p={p} a number of while loop iterations i={i}; its unlucky according to the expected value E={E:.3f}')\n",
        "    else:\n",
        "      L+=1\n",
        "      #print(f'For p={p} a number of while loop iterations i={i}; its lucky according to the expected value E={E:.3f}')\n",
        "  k=L/sz\n",
        "  return k\n",
        "\n",
        "p=0.8\n",
        "k=UniDistWithTreshold(p,10000)\n",
        "print(f'For p={p}, the percentage of lucky draws is {k*100:.3f}%\\n')\n",
        "\n",
        "# additional staff to symulate how it works\n",
        "p = np.linspace(0.0, 0.99, 100)\n",
        "k = []\n",
        "for i in range(len(p)):\n",
        "    k += [UniDistWithTreshold(p[i],2000)]\n",
        "plt.plot(p, k, color='red')\n",
        "plt.title('distribution of lucky draws')\n",
        "plt.ylabel('probability')\n",
        "plt.xlabel('p')\n",
        "plt.show()\n"
      ],
      "metadata": {
        "colab": {
          "base_uri": "https://localhost:8080/",
          "height": 508
        },
        "id": "qOT9UY3mCji8",
        "outputId": "e550768d-65e1-410d-e8ad-ef6f2d065e8c"
      },
      "execution_count": null,
      "outputs": [
        {
          "output_type": "stream",
          "name": "stdout",
          "text": [
            "For p=0.8, the percentage of lucky draws is 66.410%\n",
            "\n"
          ]
        },
        {
          "output_type": "display_data",
          "data": {
            "text/plain": [
              "<Figure size 640x480 with 1 Axes>"
            ],
            "image/png": "[encoded data removed]"
          },
          "metadata": {}
        }
      ]
    },
    {
      "cell_type": "markdown",
      "source": [
        "**Task 4**: Write a program that solves the following equation (the solution can be approximate):\n",
        "\n",
        "3x^2 – 4x - 2 = 0"
      ],
      "metadata": {
        "id": "V1GguVEvSl5U"
      }
    },
    {
      "cell_type": "code",
      "source": [
        "import math #importing library for mathematical functions\n",
        "\n",
        "a = 3\n",
        "b = -4\n",
        "c = -2\n",
        "\n",
        "D = b**2-4*a*c #calculate Δ\n",
        "\n",
        "x1 = (-b-math.sqrt(D))/(2*a)\n",
        "x2 = (-b+math.sqrt(D))/(2*a)\n",
        "\n",
        "print(f'The solution are x1={x1:.3f} and x2={x2:.3f}')"
      ],
      "metadata": {
        "colab": {
          "base_uri": "https://localhost:8080/"
        },
        "id": "0ZkIVHAES2TD",
        "outputId": "e89680c7-79d2-4fa1-809d-890dc8838a7a"
      },
      "execution_count": null,
      "outputs": [
        {
          "output_type": "stream",
          "name": "stdout",
          "text": [
            "The solution are x1=-0.387 and x2=1.721\n"
          ]
        }
      ]
    },
    {
      "cell_type": "markdown",
      "source": [
        "**Task 5**: Write a function for solving quadratic equations, use it to solve task 4"
      ],
      "metadata": {
        "id": "WtQp08zBXokS"
      }
    },
    {
      "cell_type": "code",
      "source": [
        "import math #importing library for mathematical functions\n",
        "import cmath #we need complex numbers if Δ<0\n",
        "\n",
        "def QuadraticFun(a,b,c):\n",
        "  D = b**2-4*a*c\n",
        "  if D<0:\n",
        "    x1 = (-b-cmath.sqrt(D))/(2*a)\n",
        "    x2 = (-b+cmath.sqrt(D))/(2*a)\n",
        "  else:\n",
        "    x1 = (-b-math.sqrt(D))/(2*a)\n",
        "    x2 = (-b+math.sqrt(D))/(2*a)\n",
        "  return [x1,x2]\n",
        "\n",
        "x=QuadraticFun(3,-4,-2)\n",
        "print(f'The solution for 3x^2-4x-2 are x1={x[0]:.3f} and x2={x[1]:.3f}')\n",
        "a=2\n",
        "b=4\n",
        "c=6\n",
        "x=QuadraticFun(a,b,c)\n",
        "print(f'The solution for {a}x^2+{b}x+{c} are x1={x[0]:.3f} and x2={x[1]:.3f}')"
      ],
      "metadata": {
        "colab": {
          "base_uri": "https://localhost:8080/"
        },
        "id": "fYiezyjXXs4e",
        "outputId": "7f8576c3-55a1-4ee1-8ecc-f7d454ea1e1c"
      },
      "execution_count": null,
      "outputs": [
        {
          "output_type": "stream",
          "name": "stdout",
          "text": [
            "The solution for 3x^2-4x-2 are x1=-0.387 and x2=1.721\n",
            "The solution for 2x^2+4x+6 are x1=-1.000-1.414j and x2=-1.000+1.414j\n"
          ]
        }
      ]
    },
    {
      "cell_type": "markdown",
      "source": [
        "**Task 6**: Write code that separates the values in both values1 and values2 arrays into two lists, one containing values lower than 0.5, the other containing remaining values, and:\n",
        "1.   Display the contents of these lists (you can print an entire list - *print(list_name)* )\n",
        "2.   Display the number of elements in these lists (you can use *len()* function )\n"
      ],
      "metadata": {
        "id": "WMUzRFZLaoTC"
      }
    },
    {
      "cell_type": "code",
      "source": [
        "import numpy as np\n",
        "\n",
        "values1 = np.random.rand(20)\n",
        "values2 = np.random.rand(20)\n",
        "\n",
        "# At first join two list\n",
        "V = np.concatenate((values1, values2))\n",
        "\n",
        "# Now separate values into new lists\n",
        "T1 = []\n",
        "T2 = []\n",
        "O1 = []\n",
        "O2 = []\n",
        "for i in range(len(V)):\n",
        "  if V[i]<0.5:\n",
        "    T1.append(V[i])\n",
        "    if i<20:\n",
        "      O1.append([0,i])\n",
        "    else:\n",
        "      O1.append([1,i-20])\n",
        "  else:\n",
        "    T2.append(V[i])\n",
        "    if i<20:\n",
        "      O2.append([0,i])\n",
        "    else:\n",
        "      O2.append([1,i-20])\n",
        "print(f'List of values less then 0.5 has length {len(T1)}:\\n')\n",
        "print(f'{T1}\\n')\n",
        "print(f'List of values higher or equal to 0.5 has length {len(T2)}:\\n')\n",
        "print(f'{T2}\\n')"
      ],
      "metadata": {
        "colab": {
          "base_uri": "https://localhost:8080/"
        },
        "id": "kBs4ep3wa-9S",
        "outputId": "a007d239-d9dc-4940-f5aa-b0f563f27008"
      },
      "execution_count": 8,
      "outputs": [
        {
          "output_type": "stream",
          "name": "stdout",
          "text": [
            "List of values less then 0.5 has length 27:\n",
            "\n",
            "[0.4824279296957088, 0.0672150758211334, 0.28487210799510043, 0.33722917268458774, 0.2650426822698637, 0.02094338595354095, 0.02606470639653724, 0.286782495090814, 0.16207540084845473, 0.3557031311443486, 0.06213191463102574, 0.05812423392837285, 0.3651143445848376, 0.009959489287478807, 0.46230414328256764, 0.17718599313830163, 0.07426330579905893, 0.4344940788470545, 0.40844341224962954, 0.2185975893907337, 0.29981421940842423, 0.20206697638891324, 0.09914216983683743, 0.03840015120361995, 0.3343654742670147, 0.40726239421914523, 0.058018190266356684]\n",
            "\n",
            "List of values higher or equal to 0.5 has length 13:\n",
            "\n",
            "[0.8846346130042003, 0.9224056180290728, 0.6880804017120116, 0.5174919108153302, 0.7795103511095519, 0.6279016886481654, 0.7615354572978458, 0.6318682327680069, 0.6452358169853205, 0.6798593921325218, 0.8090405843656183, 0.9841761284024162, 0.7533111700929963]\n",
            "\n"
          ]
        }
      ]
    },
    {
      "cell_type": "markdown",
      "source": [
        "**Task 7**: Display origin and index of each value of the appended lists from task 6 (e.g. [0, 3] for a value that was originally in values 1, index 3)"
      ],
      "metadata": {
        "id": "VXTKRAGCv2WG"
      }
    },
    {
      "cell_type": "code",
      "source": [
        "# in task 6 code i added two more list storing this info\n",
        "print(f'For T1 list we have pairs [values, index] of orginal origin:\\n')\n",
        "i=0\n",
        "for a, b, in zip(T1, O1):\n",
        "  print(f'T1({i})={a} of origin [value, index]={b}')\n",
        "  i+=1\n",
        "print(f'\\nFor T2 list we have pairs [values, index] of orginal origin:\\n')\n",
        "i=0\n",
        "for a, b, in zip(T2, O2):\n",
        "  print(f'T2({i})={a} of origin [value, index]={b}')\n",
        "  i+=1"
      ],
      "metadata": {
        "colab": {
          "base_uri": "https://localhost:8080/"
        },
        "id": "cmoaVODbv4FG",
        "outputId": "4802483d-be8e-4ab0-f563-deca0caf9107"
      },
      "execution_count": 20,
      "outputs": [
        {
          "output_type": "stream",
          "name": "stdout",
          "text": [
            "For T1 list we have pairs [values, index] of orginal origin:\n",
            "\n",
            "T1(0)=0.4824279296957088 of origin [value, index]=[0, 1]\n",
            "T1(1)=0.0672150758211334 of origin [value, index]=[0, 2]\n",
            "T1(2)=0.28487210799510043 of origin [value, index]=[0, 5]\n",
            "T1(3)=0.33722917268458774 of origin [value, index]=[0, 7]\n",
            "T1(4)=0.2650426822698637 of origin [value, index]=[0, 8]\n",
            "T1(5)=0.02094338595354095 of origin [value, index]=[0, 9]\n",
            "T1(6)=0.02606470639653724 of origin [value, index]=[0, 11]\n",
            "T1(7)=0.286782495090814 of origin [value, index]=[0, 12]\n",
            "T1(8)=0.16207540084845473 of origin [value, index]=[0, 13]\n",
            "T1(9)=0.3557031311443486 of origin [value, index]=[0, 14]\n",
            "T1(10)=0.06213191463102574 of origin [value, index]=[0, 16]\n",
            "T1(11)=0.05812423392837285 of origin [value, index]=[0, 17]\n",
            "T1(12)=0.3651143445848376 of origin [value, index]=[0, 18]\n",
            "T1(13)=0.009959489287478807 of origin [value, index]=[0, 19]\n",
            "T1(14)=0.46230414328256764 of origin [value, index]=[1, 1]\n",
            "T1(15)=0.17718599313830163 of origin [value, index]=[1, 2]\n",
            "T1(16)=0.07426330579905893 of origin [value, index]=[1, 3]\n",
            "T1(17)=0.4344940788470545 of origin [value, index]=[1, 5]\n",
            "T1(18)=0.40844341224962954 of origin [value, index]=[1, 6]\n",
            "T1(19)=0.2185975893907337 of origin [value, index]=[1, 7]\n",
            "T1(20)=0.29981421940842423 of origin [value, index]=[1, 8]\n",
            "T1(21)=0.20206697638891324 of origin [value, index]=[1, 9]\n",
            "T1(22)=0.09914216983683743 of origin [value, index]=[1, 11]\n",
            "T1(23)=0.03840015120361995 of origin [value, index]=[1, 12]\n",
            "T1(24)=0.3343654742670147 of origin [value, index]=[1, 13]\n",
            "T1(25)=0.40726239421914523 of origin [value, index]=[1, 18]\n",
            "T1(26)=0.058018190266356684 of origin [value, index]=[1, 19]\n",
            "\n",
            "For T2 list we have pairs [values, index] of orginal origin:\n",
            "\n",
            "T2(0)=0.8846346130042003 of origin [value, index]=[0, 0]\n",
            "T2(1)=0.9224056180290728 of origin [value, index]=[0, 3]\n",
            "T2(2)=0.6880804017120116 of origin [value, index]=[0, 4]\n",
            "T2(3)=0.5174919108153302 of origin [value, index]=[0, 6]\n",
            "T2(4)=0.7795103511095519 of origin [value, index]=[0, 10]\n",
            "T2(5)=0.6279016886481654 of origin [value, index]=[0, 15]\n",
            "T2(6)=0.7615354572978458 of origin [value, index]=[1, 0]\n",
            "T2(7)=0.6318682327680069 of origin [value, index]=[1, 4]\n",
            "T2(8)=0.6452358169853205 of origin [value, index]=[1, 10]\n",
            "T2(9)=0.6798593921325218 of origin [value, index]=[1, 14]\n",
            "T2(10)=0.8090405843656183 of origin [value, index]=[1, 15]\n",
            "T2(11)=0.9841761284024162 of origin [value, index]=[1, 16]\n",
            "T2(12)=0.7533111700929963 of origin [value, index]=[1, 17]\n"
          ]
        }
      ]
    },
    {
      "cell_type": "markdown",
      "source": [
        "**Task 9**: Matrix operations. Have a look at the code example in section 5, try to rewrite it (up until the printing) in such a way that no loops are utilized"
      ],
      "metadata": {
        "id": "8CU7wkzO5aGV"
      }
    },
    {
      "cell_type": "code",
      "source": [
        "import numpy as np\n",
        "import matplotlib.pyplot as plt\n",
        "def rectangle_circumference(a, b):\n",
        "  return 2*a + 2*b\n",
        "def rectangle_area(a, b):\n",
        "  return a*b\n",
        "\n",
        "value_count = 20\n",
        "# initializing vectors of 20 random values scaled from 0 to 1\n",
        "random_sides_a = np.random.rand(value_count)\n",
        "random_sides_b = np.random.rand(value_count)\n",
        "\n",
        "# scaling and shifting the vectors to range from 1 to 10\n",
        "random_sides_a = (random_sides_a * 9) + 1\n",
        "random_sides_b = (random_sides_b * 9) + 1\n",
        "\n",
        "# creating lists via array and functions\n",
        "\n",
        "circumferences = np.array(rectangle_circumference(random_sides_a, random_sides_b))\n",
        "areas = np.array(rectangle_area(random_sides_a, random_sides_b))\n",
        "\n",
        "# obtaining order of indices by ascending value\n",
        "order = np.argsort(areas)\n",
        "\n",
        "\n",
        "#---------printing section----------\n",
        "\n",
        "# utilizing zip to iterate over several collections at the same time\n",
        "for a, b, circ, area in zip(random_sides_a, random_sides_b, circumferences, areas):\n",
        "  print(f'sides {a} and {b}, circumference {circ}, area {area}')\n",
        "\n",
        "# utilizing enumerate() to get a helper variable for iteration number\n",
        "for iteration_no, index in enumerate(order):\n",
        "  print(f'{iteration_no} place, rectangle #{index}, area {areas[index]}')\n",
        "\n",
        "plt.plot(sorted(areas))\n",
        "plt.title('distribution of areas of rectangles')\n",
        "plt.xlabel('sample')\n",
        "plt.ylabel('area [units^2]')\n",
        "plt.grid()\n",
        "plt.show()\n",
        "\n",
        "plt.plot(sorted(circumferences))\n",
        "plt.title('distribution of circumferences of rectangles')\n",
        "plt.xlabel('sample')\n",
        "plt.ylabel('circumference [units^2]')\n",
        "plt.grid()\n",
        "plt.show()"
      ],
      "metadata": {
        "colab": {
          "base_uri": "https://localhost:8080/",
          "height": 1000
        },
        "id": "lNL8omVd6ndd",
        "outputId": "71b5723b-ffa5-4f5b-9261-41b5b3c26d2d"
      },
      "execution_count": 28,
      "outputs": [
        {
          "output_type": "stream",
          "name": "stdout",
          "text": [
            "sides 5.565115496353744 and 8.940980850968666, circumference 29.01219269464482, area 49.757591086327814\n",
            "sides 8.609731924524258 and 2.4385265314783346, circumference 22.096516912005185, area 20.995059726868426\n",
            "sides 2.1940807857603586 and 4.755952887785664, circumference 13.900067347092046, area 10.434944849072016\n",
            "sides 7.6125947998112835 and 2.9769300252430124, circumference 21.179049650108592, area 22.66216202956703\n",
            "sides 6.867249313084077 and 5.832427461231257, circumference 25.399353548630668, area 40.052733476753055\n",
            "sides 4.839543522686554 and 1.175589232039755, circumference 12.030265509452619, area 5.689315253258057\n",
            "sides 8.048471992699056 and 5.1408085529481635, circumference 26.37856109129444, area 41.37565365823106\n",
            "sides 7.500944334500144 and 4.506450517691439, circumference 24.014789704383166, area 33.80263447938284\n",
            "sides 3.26424849613808 and 6.178585708613029, circumference 18.885668409502216, area 20.168439107600314\n",
            "sides 2.5613294862446034 and 8.10745749664637, circumference 21.33757396578195, area 20.765869944635206\n",
            "sides 8.725798993299769 and 3.1388330697258606, circumference 23.72926412605126, area 27.388826439949938\n",
            "sides 2.739799011409014 and 6.335222449278761, circumference 18.15004292137555, area 17.35723620359014\n",
            "sides 1.348721724915339 and 2.1951946862584735, circumference 7.087832822347625, area 2.9607067637755144\n",
            "sides 7.321582277146248 and 9.354497887235961, circumference 33.35216032876442, area 68.48972594278884\n",
            "sides 9.862116440439795 and 9.455411190903714, circumference 38.63505526268702, area 93.25036615692994\n",
            "sides 3.064339671637983 and 8.19559040163975, circumference 22.519860146555466, area 25.114072800240155\n",
            "sides 4.21901256739285 and 6.166622810010893, circumference 20.77127075480749, area 26.017059133807372\n",
            "sides 4.099630467501358 and 5.731487866793703, circumference 19.662236668590122, area 23.49698228282183\n",
            "sides 4.280602438045049 and 5.4707030963063135, circumference 19.502611068702727, area 23.417905011869404\n",
            "sides 7.149845119034382 and 7.209964442840779, circumference 28.719619123750324, area 51.5501290800566\n",
            "0 place, rectangle #12, area 2.9607067637755144\n",
            "1 place, rectangle #5, area 5.689315253258057\n",
            "2 place, rectangle #2, area 10.434944849072016\n",
            "3 place, rectangle #11, area 17.35723620359014\n",
            "4 place, rectangle #8, area 20.168439107600314\n",
            "5 place, rectangle #9, area 20.765869944635206\n",
            "6 place, rectangle #1, area 20.995059726868426\n",
            "7 place, rectangle #3, area 22.66216202956703\n",
            "8 place, rectangle #18, area 23.417905011869404\n",
            "9 place, rectangle #17, area 23.49698228282183\n",
            "10 place, rectangle #15, area 25.114072800240155\n",
            "11 place, rectangle #16, area 26.017059133807372\n",
            "12 place, rectangle #10, area 27.388826439949938\n",
            "13 place, rectangle #7, area 33.80263447938284\n",
            "14 place, rectangle #4, area 40.052733476753055\n",
            "15 place, rectangle #6, area 41.37565365823106\n",
            "16 place, rectangle #0, area 49.757591086327814\n",
            "17 place, rectangle #19, area 51.5501290800566\n",
            "18 place, rectangle #13, area 68.48972594278884\n",
            "19 place, rectangle #14, area 93.25036615692994\n"
          ]
        },
        {
          "output_type": "display_data",
          "data": {
            "text/plain": [
              "<Figure size 640x480 with 1 Axes>"
            ],
            "image/png": "[encoded data removed]"
          },
          "metadata": {}
        },
        {
          "output_type": "display_data",
          "data": {
            "text/plain": [
              "<Figure size 640x480 with 1 Axes>"
            ],
            "image/png": "[encoded data removed]"
          },
          "metadata": {}
        }
      ]
    },
    {
      "cell_type": "markdown",
      "source": [
        "**Task 10**: List comprehension. Simplify the code below to a single line (paste the original code into colab to compare results)"
      ],
      "metadata": {
        "id": "TNWjl1YB85-F"
      }
    },
    {
      "cell_type": "code",
      "source": [
        "newlist = []\n",
        "for i in range(10):\n",
        "  value = i\n",
        "  value = value * value\n",
        "  value = value - 4\n",
        "  newlist.append(value)\n",
        "print(f'{newlist}')"
      ],
      "metadata": {
        "colab": {
          "base_uri": "https://localhost:8080/"
        },
        "id": "2Ydseclm8-A9",
        "outputId": "4647900a-e3ff-486c-f077-82bddd640ebe"
      },
      "execution_count": 33,
      "outputs": [
        {
          "output_type": "stream",
          "name": "stdout",
          "text": [
            "[-4, -3, 0, 5, 12, 21, 32, 45, 60, 77]\n"
          ]
        }
      ]
    },
    {
      "cell_type": "code",
      "source": [
        "newlistOneline = [i*i-4 for i in range(10)]\n",
        "print(f'{newlistOneline}')"
      ],
      "metadata": {
        "colab": {
          "base_uri": "https://localhost:8080/"
        },
        "id": "iF2Fqfi29HyN",
        "outputId": "eb2ad33b-436e-4f86-bf51-cd15e32527e7"
      },
      "execution_count": 36,
      "outputs": [
        {
          "output_type": "stream",
          "name": "stdout",
          "text": [
            "[-4, -3, 0, 5, 12, 21, 32, 45, 60, 77]\n"
          ]
        }
      ]
    }
  ]
}